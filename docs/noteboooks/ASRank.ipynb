{
 "cells": [
  {
   "cell_type": "markdown",
   "metadata": {},
   "source": [
    "# Experimenting with AS Rank API\n",
    "## https://api.asrank.caida.org/v2/docs\n",
    "## https://api.asrank.caida.org/v2/restful/doc"
   ]
  },
  {
   "cell_type": "code",
   "execution_count": 10,
   "metadata": {},
   "outputs": [],
   "source": [
    "import requests\n",
    "import json"
   ]
  },
  {
   "cell_type": "code",
   "execution_count": 15,
   "metadata": {},
   "outputs": [],
   "source": [
    "response = requests.get(\"https://api.asrank.caida.org/v2/restful/asns/16509\")"
   ]
  },
  {
   "cell_type": "code",
   "execution_count": 16,
   "metadata": {},
   "outputs": [
    {
     "name": "stdout",
     "output_type": "stream",
     "text": [
      "<Response [200]>\n"
     ]
    }
   ],
   "source": [
    "print(response)"
   ]
  },
  {
   "cell_type": "code",
   "execution_count": 17,
   "metadata": {},
   "outputs": [
    {
     "name": "stdout",
     "output_type": "stream",
     "text": [
      "{'data': {'asn': {'rank': 3776, 'asn': '16509', 'asnName': 'AMAZON-02', 'source': 'ARIN', 'cliqueMember': True, 'seen': True, 'ixp': None, 'longitude': -85.0912074162646, 'latitude': 80.9413142468871, 'organization': {'orgId': '985ddb83ae'}, 'cone': {'numberAsns': 5, 'numberPrefixes': 6921, 'numberAddresses': 58514752}, 'country': {'iso': 'US'}, 'asnDegree': {'total': 361, 'customer': 4, 'peer': 338, 'provider': 19}}}}\n"
     ]
    }
   ],
   "source": [
    "print(response.json()) # This method is convenient when the API returns JSON"
   ]
  },
  {
   "cell_type": "code",
   "execution_count": 18,
   "metadata": {},
   "outputs": [
    {
     "name": "stdout",
     "output_type": "stream",
     "text": [
      "{'data': {'asn': {'rank': 19, 'asn': '701', 'asnName': 'UUNET', 'source': 'ARIN', 'cliqueMember': True, 'seen': True, 'ixp': None, 'longitude': -79.3383025650042, 'latitude': 39.9004374702668, 'organization': {'orgId': '5934dab83b'}, 'cone': {'numberAsns': 3942, 'numberPrefixes': 139979, 'numberAddresses': 601716952}, 'country': {'iso': 'US'}, 'asnDegree': {'total': 1439, 'customer': 1399, 'peer': 40, 'provider': 0}}}}\n"
     ]
    }
   ],
   "source": [
    "query = '701'\n",
    "response = requests.get(f'https://api.asrank.caida.org/v2/restful/asns/{query}')\n",
    "print(response.json())"
   ]
  },
  {
   "cell_type": "code",
   "execution_count": null,
   "metadata": {},
   "outputs": [],
   "source": []
  }
 ],
 "metadata": {
  "kernelspec": {
   "display_name": "Python 3 (ipykernel)",
   "language": "python",
   "name": "python3"
  },
  "language_info": {
   "codemirror_mode": {
    "name": "ipython",
    "version": 3
   },
   "file_extension": ".py",
   "mimetype": "text/x-python",
   "name": "python",
   "nbconvert_exporter": "python",
   "pygments_lexer": "ipython3",
   "version": "3.8.5"
  }
 },
 "nbformat": 4,
 "nbformat_minor": 4
}
